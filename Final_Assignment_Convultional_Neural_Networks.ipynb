{
  "nbformat": 4,
  "nbformat_minor": 0,
  "metadata": {
    "colab": {
      "name": "Final Assignment - Convultional Neural Networks.ipynb",
      "provenance": [],
      "collapsed_sections": []
    },
    "kernelspec": {
      "name": "python3",
      "display_name": "Python 3"
    },
    "language_info": {
      "name": "python"
    },
    "accelerator": "GPU"
  },
  "cells": [
    {
      "cell_type": "markdown",
      "metadata": {
        "id": "Mglz10g53q8-"
      },
      "source": [
        "# Classifying text using deep learning models (final assignment)"
      ]
    },
    {
      "cell_type": "markdown",
      "metadata": {
        "id": "GuvqUD-ddSTR"
      },
      "source": [
        "by Ali Fenwick"
      ]
    },
    {
      "cell_type": "markdown",
      "metadata": {
        "id": "BFuA-6rdoYoO"
      },
      "source": [
        "## Introduction\n",
        "The following is a description of a sequence classification problem and design of a text-based classification model for a final assignment in Deep Learning. For this final assignment on applying convolutional neural networks (CNN) to make predictions on real-world data, I have developed and tested three different types of deep learning models to evaluate their performance on the popular IMDB dataset. \n",
        "\n",
        "## Dataset\n",
        "The IMDB dataset is a dataset containing text-based reviews of movies. The dataset contains 50.000 reviews categorized as either positive or negative depending on the wording used. The dataset is split into an equal number of training and test data, both containing 25.000 reviews each. Each movie review is a variable sequence of words and the sentiment of each movie review must be classified. The dataset and pre-trained word embedding (Glove 6B) were retrieved from [Github](https://github.com/Yifeng-He/Sentiment-Analysis-using-Convolutional-Neural-Network). For convenience purposes, the IMDB dataset available on Keras was used instead (ready for use in neural networks), while the word embedding on Github was utilized in this analysis.\n",
        "\n",
        "## Application of CNN in text sentiment analysis\n",
        "In recent years, CNN have been successful applied to sequence classification problems such as text-based predictions (sentiment analysis). The basic task of sentiment analysis is to classify the polarity of a given text and to determine whether the opinions expressed are positive, negative or neutral. Using statistical methods, deep learning models can classify text based on their sentiment. Till recently recurrent neural networks (RNN) have been the dominant model in addressing such problems due to its ability to obtain contextual information.\n",
        "\n",
        "In this assignment, I aim to test three different models to check which models show the best model performance. To ensure breadth in evaluating deep learning model application to this sequence classification problem, I will test:\n",
        "\n",
        "\n",
        "1.   Fully connected (Dense) Neural Network\n",
        "2.   Convolutional Neural Network\n",
        "3.   Convolutional Neural Network + LMTS\n",
        "\n"
      ]
    },
    {
      "cell_type": "markdown",
      "metadata": {
        "id": "prT3ZkRI1vaF"
      },
      "source": [
        "# Coding Section"
      ]
    },
    {
      "cell_type": "markdown",
      "metadata": {
        "id": "QK6V7ozY10TS"
      },
      "source": [
        "## Library and data preparation for the design of the Dense Neural Network"
      ]
    },
    {
      "cell_type": "code",
      "metadata": {
        "colab": {
          "base_uri": "https://localhost:8080/"
        },
        "id": "WAonTxyjaZwo",
        "outputId": "21de6b4c-1e3a-4249-cf89-0855750eef86"
      },
      "source": [
        "from keras.datasets import imdb\n",
        "\n",
        "(train_data, train_labels), (test_data, test_labels) = imdb.load_data(num_words=10000)"
      ],
      "execution_count": 1,
      "outputs": [
        {
          "output_type": "stream",
          "name": "stdout",
          "text": [
            "Downloading data from https://storage.googleapis.com/tensorflow/tf-keras-datasets/imdb.npz\n",
            "17465344/17464789 [==============================] - 0s 0us/step\n",
            "17473536/17464789 [==============================] - 0s 0us/step\n"
          ]
        }
      ]
    },
    {
      "cell_type": "markdown",
      "metadata": {
        "id": "6pN5GnGa0rSH"
      },
      "source": [
        "First, I will download the IMDB dataset available on Keras."
      ]
    },
    {
      "cell_type": "code",
      "metadata": {
        "id": "mKAG9Ugt36WA"
      },
      "source": [
        "import numpy as np\n",
        "import pandas as pd\n",
        "import matplotlib.pyplot as plt\n",
        "from keras import models\n",
        "from keras import layers\n",
        "from keras import optimizers\n",
        "from keras import losses\n",
        "from keras import metrics\n"
      ],
      "execution_count": 9,
      "outputs": []
    },
    {
      "cell_type": "markdown",
      "metadata": {
        "id": "zrC9Qqc3ye9b"
      },
      "source": [
        "Then I will load the necessary libraries for this first model testing."
      ]
    },
    {
      "cell_type": "code",
      "metadata": {
        "id": "jP6vF_lo4Ngz"
      },
      "source": [
        "def vectorize_sequences(sequences, dimension=10000):\n",
        "    # Create an all-zero matrix of shape (len(sequences), dimension)\n",
        "    results = np.zeros((len(sequences), dimension))\n",
        "    for i, sequence in enumerate(sequences):\n",
        "        results[i, sequence] = 1  #set specific indices of results[i] to 1s\n",
        "    return results\n",
        "\n",
        "# vectorized training data\n",
        "x_train = vectorize_sequences(train_data)\n",
        "# vectorized test data\n",
        "x_test = vectorize_sequences(test_data)"
      ],
      "execution_count": 10,
      "outputs": []
    },
    {
      "cell_type": "markdown",
      "metadata": {
        "id": "PXVPyP2kyySC"
      },
      "source": [
        "Next, I will create vectorized sequences by creating an all-zero matrix while setting specific indices of results[i] to 1s. This part of the code transforms the dataset into a binary vector space model. The vectorized data is then set for the training and test sets. "
      ]
    },
    {
      "cell_type": "code",
      "metadata": {
        "id": "CLyPH_f05ClA"
      },
      "source": [
        "# vectorized labels\n",
        "y_train = np.asarray(train_labels).astype('float32')\n",
        "y_test = np.asarray(test_labels).astype('float32')"
      ],
      "execution_count": 11,
      "outputs": []
    },
    {
      "cell_type": "markdown",
      "metadata": {
        "id": "9-MBLXdr02CS"
      },
      "source": [
        "In this section, I will set the datatype of the predictor variables (y) in both training and test set to decimals (float32)"
      ]
    },
    {
      "cell_type": "markdown",
      "metadata": {
        "id": "PcQJsq8L1iBN"
      },
      "source": [
        "## Model Design of a Dense Neural Network"
      ]
    },
    {
      "cell_type": "code",
      "metadata": {
        "id": "xecFEmS_5dFF"
      },
      "source": [
        "model = models.Sequential()\n",
        "model.add(layers.Dense(16, activation='relu', input_shape=(10000,)))\n",
        "model.add(layers.Dense(16, activation='relu'))\n",
        "model.add(layers.Dense(1, activation='sigmoid'))"
      ],
      "execution_count": 13,
      "outputs": []
    },
    {
      "cell_type": "markdown",
      "metadata": {
        "id": "LQGOTyhH2LZB"
      },
      "source": [
        "Designing the model, the rectified linear activation function (relu) activation is used in the initial layer. The relu function is a piecewise linear function that will output the input directly if it is positive, otherwise, it will output zero. Relu overcomes the vanishing gradient problem, allowing models to learn faster and perform better. \n",
        "\n",
        "In the final layer, the sigmoid function is used to facilitate the classification problem as either positive or negative. As the sigmoid function evaluates within 0 to 1 range, values <0.5 will be classified as negative and values >0.5 classified as positive."
      ]
    },
    {
      "cell_type": "code",
      "metadata": {
        "id": "2nRcCvBW5h0h"
      },
      "source": [
        "model.compile(optimizer='rmsprop',\n",
        "              loss='binary_crossentropy',\n",
        "              metrics=['accuracy'])"
      ],
      "execution_count": 14,
      "outputs": []
    },
    {
      "cell_type": "markdown",
      "metadata": {
        "id": "MDHM0HGv4Pyj"
      },
      "source": [
        "Model compile helps to decide which optimizer to use for the model. RMSprop or Adam are frequently used. In this case, I chose for RMSprop. As the classification problem is a binary classification (positive or negative), I used binary_crossentropy as the loss function. Accuracy of the model predictions is the performance metrics of this model."
      ]
    },
    {
      "cell_type": "code",
      "metadata": {
        "id": "7cOo8n_65mhk"
      },
      "source": [
        "x_val = x_train[:10000]\n",
        "partial_x_train = x_train[10000:]\n",
        "\n",
        "y_val = y_train[:10000]\n",
        "partial_y_train = y_train[10000:]"
      ],
      "execution_count": 15,
      "outputs": []
    },
    {
      "cell_type": "markdown",
      "metadata": {
        "id": "WGYnXf3m4zV7"
      },
      "source": [
        "In this section, I set the areas for x and y validation."
      ]
    },
    {
      "cell_type": "code",
      "metadata": {
        "colab": {
          "base_uri": "https://localhost:8080/"
        },
        "id": "N7aXdAi_52qf",
        "outputId": "677b22af-f03d-4250-91d1-94c792ba4a0d"
      },
      "source": [
        "history = model.fit(partial_x_train,\n",
        "                    partial_y_train,\n",
        "                    epochs=20,\n",
        "                    batch_size=512,\n",
        "                    validation_data=(x_val, y_val))"
      ],
      "execution_count": 16,
      "outputs": [
        {
          "output_type": "stream",
          "name": "stdout",
          "text": [
            "Epoch 1/20\n",
            "30/30 [==============================] - 4s 42ms/step - loss: 0.5188 - accuracy: 0.7878 - val_loss: 0.3949 - val_accuracy: 0.8653\n",
            "Epoch 2/20\n",
            "30/30 [==============================] - 1s 20ms/step - loss: 0.3113 - accuracy: 0.8985 - val_loss: 0.3058 - val_accuracy: 0.8851\n",
            "Epoch 3/20\n",
            "30/30 [==============================] - 1s 20ms/step - loss: 0.2259 - accuracy: 0.9263 - val_loss: 0.2908 - val_accuracy: 0.8826\n",
            "Epoch 4/20\n",
            "30/30 [==============================] - 1s 20ms/step - loss: 0.1774 - accuracy: 0.9434 - val_loss: 0.2734 - val_accuracy: 0.8893\n",
            "Epoch 5/20\n",
            "30/30 [==============================] - 1s 20ms/step - loss: 0.1474 - accuracy: 0.9511 - val_loss: 0.2984 - val_accuracy: 0.8803\n",
            "Epoch 6/20\n",
            "30/30 [==============================] - 1s 19ms/step - loss: 0.1211 - accuracy: 0.9621 - val_loss: 0.2925 - val_accuracy: 0.8862\n",
            "Epoch 7/20\n",
            "30/30 [==============================] - 1s 19ms/step - loss: 0.1008 - accuracy: 0.9699 - val_loss: 0.3052 - val_accuracy: 0.8836\n",
            "Epoch 8/20\n",
            "30/30 [==============================] - 1s 20ms/step - loss: 0.0829 - accuracy: 0.9764 - val_loss: 0.3401 - val_accuracy: 0.8775\n",
            "Epoch 9/20\n",
            "30/30 [==============================] - 1s 20ms/step - loss: 0.0701 - accuracy: 0.9808 - val_loss: 0.3499 - val_accuracy: 0.8795\n",
            "Epoch 10/20\n",
            "30/30 [==============================] - 1s 20ms/step - loss: 0.0577 - accuracy: 0.9851 - val_loss: 0.3744 - val_accuracy: 0.8783\n",
            "Epoch 11/20\n",
            "30/30 [==============================] - 1s 20ms/step - loss: 0.0482 - accuracy: 0.9884 - val_loss: 0.4026 - val_accuracy: 0.8767\n",
            "Epoch 12/20\n",
            "30/30 [==============================] - 1s 19ms/step - loss: 0.0389 - accuracy: 0.9913 - val_loss: 0.4352 - val_accuracy: 0.8723\n",
            "Epoch 13/20\n",
            "30/30 [==============================] - 1s 20ms/step - loss: 0.0313 - accuracy: 0.9935 - val_loss: 0.4712 - val_accuracy: 0.8694\n",
            "Epoch 14/20\n",
            "30/30 [==============================] - 1s 20ms/step - loss: 0.0260 - accuracy: 0.9952 - val_loss: 0.4992 - val_accuracy: 0.8706\n",
            "Epoch 15/20\n",
            "30/30 [==============================] - 1s 19ms/step - loss: 0.0216 - accuracy: 0.9954 - val_loss: 0.5278 - val_accuracy: 0.8691\n",
            "Epoch 16/20\n",
            "30/30 [==============================] - 1s 19ms/step - loss: 0.0164 - accuracy: 0.9978 - val_loss: 0.5634 - val_accuracy: 0.8683\n",
            "Epoch 17/20\n",
            "30/30 [==============================] - 1s 19ms/step - loss: 0.0168 - accuracy: 0.9964 - val_loss: 0.5938 - val_accuracy: 0.8688\n",
            "Epoch 18/20\n",
            "30/30 [==============================] - 1s 21ms/step - loss: 0.0088 - accuracy: 0.9993 - val_loss: 0.6443 - val_accuracy: 0.8656\n",
            "Epoch 19/20\n",
            "30/30 [==============================] - 1s 20ms/step - loss: 0.0098 - accuracy: 0.9985 - val_loss: 0.6564 - val_accuracy: 0.8672\n",
            "Epoch 20/20\n",
            "30/30 [==============================] - 1s 20ms/step - loss: 0.0052 - accuracy: 0.9999 - val_loss: 0.6950 - val_accuracy: 0.8663\n"
          ]
        }
      ]
    },
    {
      "cell_type": "markdown",
      "metadata": {
        "id": "oHFoZ7R65dnF"
      },
      "source": [
        "The model is then run using the model.fit function. The model shows that it achieves 86.6% accuracy. Next I will visualize the data to evaluate the overall performance of the model."
      ]
    },
    {
      "cell_type": "code",
      "metadata": {
        "colab": {
          "base_uri": "https://localhost:8080/",
          "height": 573
        },
        "id": "H97rR-_I540d",
        "outputId": "27e8652f-cb6d-4b56-d934-770c0d2cedbc"
      },
      "source": [
        "plt.plot(history.history['accuracy'])\n",
        "plt.plot(history.history['val_accuracy'])\n",
        "\n",
        "plt.title('model accuracy')\n",
        "plt.ylabel('accuracy')\n",
        "plt.xlabel('epoch')\n",
        "plt.legend(['train','test'], loc = 'upper left')\n",
        "plt.show()\n",
        "\n",
        "plt.plot(history.history['loss'])\n",
        "plt.plot(history.history['val_loss'])\n",
        "\n",
        "plt.title('model loss')\n",
        "plt.ylabel('loss')\n",
        "plt.xlabel('epoch')\n",
        "plt.legend(['train','test'], loc = 'upper left')\n",
        "plt.show()"
      ],
      "execution_count": 28,
      "outputs": [
        {
          "output_type": "display_data",
          "data": {
            "image/png": "[encoded data removed]",
            "text/plain": [
              "<Figure size 432x288 with 1 Axes>"
            ]
          },
          "metadata": {
            "needs_background": "light"
          }
        },
        {
          "output_type": "display_data",
          "data": {
            "image/png": "[encoded data removed]",
            "text/plain": [
              "<Figure size 432x288 with 1 Axes>"
            ]
          },
          "metadata": {
            "needs_background": "light"
          }
        }
      ]
    },
    {
      "cell_type": "markdown",
      "metadata": {
        "id": "uCy8M_Cg5xac"
      },
      "source": [
        "This part visualizes the loss and accuracy of the model. The illustrations show that the model is heavily overfitting. The accuracy of the training data accuracy is much higher than the validation accuracy which shows that the model is overfitting. Also the increase of loss of the validation data shows overfitting. \n",
        "\n",
        "It is important to fix this moving forward using regularization techniques such as L1/L2 regularization, Batch normalization, and Dropout."
      ]
    },
    {
      "cell_type": "markdown",
      "metadata": {
        "id": "U_XfvC9r6LXS"
      },
      "source": [
        "# Text Classification with a Convolutional Neural Network\n"
      ]
    },
    {
      "cell_type": "markdown",
      "metadata": {
        "id": "lWeGV2r16vd3"
      },
      "source": [
        "In this section, I will train a convolutional neural network to create a model which is more effective in terms of sentiment analysis text classification. In addition, I will also apply regurlarization techniques identified in the previous section. Not applying regularization to the CNN model showed poor results in previous attempts I had made."
      ]
    },
    {
      "cell_type": "code",
      "metadata": {
        "id": "N1xj1isF-eFB"
      },
      "source": [
        "from keras.models import Sequential\n",
        "from keras.layers import Dense\n",
        "from keras.layers import Flatten\n",
        "from keras.layers.embeddings import Embedding\n",
        "from keras.preprocessing import sequence\n",
        "from keras.layers.convolutional import Conv1D\n",
        "from keras.layers.convolutional import MaxPooling1D\n",
        "from keras.layers import Dense, Dropout, Flatten, Activation, BatchNormalization"
      ],
      "execution_count": 36,
      "outputs": []
    },
    {
      "cell_type": "markdown",
      "metadata": {
        "id": "VumuxD2n7nk2"
      },
      "source": [
        "In addition to the previous libraries, I am loading here libraries related to regularization and CNN development. Also, I am applying the word embedding here which I forgot to apply in the previous section."
      ]
    },
    {
      "cell_type": "markdown",
      "metadata": {
        "id": "Mk0D6nEJ8R0-"
      },
      "source": [
        "## Model Design of a Convolutional Neural Network "
      ]
    },
    {
      "cell_type": "code",
      "metadata": {
        "colab": {
          "base_uri": "https://localhost:8080/"
        },
        "id": "KeDsqFlp6RoN",
        "outputId": "89e231c4-559e-4cdf-c6fa-94f3ecd647c7"
      },
      "source": [
        "# load the dataset but only keep the top n words, zero the rest\n",
        "top_words = 5000\n",
        "(x_train, y_train), (x_test, y_test) = imdb.load_data(num_words=top_words)\n",
        "\n",
        "# pad dataset to a maximum review length in words\n",
        "max_words = 500\n",
        "x_train = sequence.pad_sequences(x_train, maxlen=max_words)\n",
        "x_test = sequence.pad_sequences(x_test, maxlen=max_words)\n",
        "\n",
        "# create the model\n",
        "model = Sequential()\n",
        "model.add(Embedding(top_words, 32, input_length=max_words))\n",
        "model.add(Conv1D(32, 3, padding='same', activation='relu'))\n",
        "model.add(BatchNormalization())\n",
        "model.add(MaxPooling1D())\n",
        "model.add(Dropout(0.5))\n",
        "model.add(Flatten())\n",
        "model.add(Dense(250, activation='relu'))\n",
        "model.add(Dense(1, activation='sigmoid'))\n",
        "model.compile(loss='binary_crossentropy', optimizer='adam', metrics=['accuracy'])\n",
        "model.summary()\n",
        "\n",
        "# Fit the model\n",
        "history = model.fit(x_train, y_train, validation_data=(x_test, y_test), epochs=2, batch_size=128, verbose=2)\n",
        "\n",
        "# Final evaluation of the model\n",
        "scores = model.evaluate(x_test, y_test, verbose=0)\n",
        "\n",
        "print(\"Accuracy: %.2f%%\" % (scores[1]*100))"
      ],
      "execution_count": 42,
      "outputs": [
        {
          "output_type": "stream",
          "name": "stdout",
          "text": [
            "Model: \"sequential_9\"\n",
            "_________________________________________________________________\n",
            "Layer (type)                 Output Shape              Param #   \n",
            "=================================================================\n",
            "embedding_6 (Embedding)      (None, 500, 32)           160000    \n",
            "_________________________________________________________________\n",
            "conv1d_5 (Conv1D)            (None, 500, 32)           3104      \n",
            "_________________________________________________________________\n",
            "batch_normalization_5 (Batch (None, 500, 32)           128       \n",
            "_________________________________________________________________\n",
            "max_pooling1d_5 (MaxPooling1 (None, 250, 32)           0         \n",
            "_________________________________________________________________\n",
            "dropout_5 (Dropout)          (None, 250, 32)           0         \n",
            "_________________________________________________________________\n",
            "flatten_5 (Flatten)          (None, 8000)              0         \n",
            "_________________________________________________________________\n",
            "dense_16 (Dense)             (None, 250)               2000250   \n",
            "_________________________________________________________________\n",
            "dense_17 (Dense)             (None, 1)                 251       \n",
            "=================================================================\n",
            "Total params: 2,163,733\n",
            "Trainable params: 2,163,669\n",
            "Non-trainable params: 64\n",
            "_________________________________________________________________\n",
            "Epoch 1/2\n",
            "196/196 - 5s - loss: 0.5426 - accuracy: 0.6930 - val_loss: 0.5894 - val_accuracy: 0.8414\n",
            "Epoch 2/2\n",
            "196/196 - 3s - loss: 0.2408 - accuracy: 0.9019 - val_loss: 0.4382 - val_accuracy: 0.8797\n",
            "Accuracy: 87.97%\n"
          ]
        }
      ]
    },
    {
      "cell_type": "markdown",
      "metadata": {
        "id": "fBH8KMHj8N_N"
      },
      "source": [
        "Similar to before, here I am developing the neural network model. The first layer design contains information about the CNN I am applying. I specifically chose here for a 1D filter, because I am analyzing text and not images. CNN require Maxpooling to reduce the dimensions of the feature map. Finally, for regularization batch normalization and dropout are added. \n",
        "\n",
        "In the model compile section, I have chosen Adam this time as it gave better results than the RSMprop optimizer. The model summary was added this time around to provide a summary of the model parameters. \n",
        "\n",
        "The results of the model show that the accuracy of the model is 87.97%. Improvement compared to the fully connected network previous tested. Let's now visually check the overall performance of the model for overfitting."
      ]
    },
    {
      "cell_type": "code",
      "metadata": {
        "colab": {
          "base_uri": "https://localhost:8080/",
          "height": 573
        },
        "id": "j3AZlDgQ-UIg",
        "outputId": "1f88da56-ad3f-4af2-d92d-6f7f03f110d5"
      },
      "source": [
        "plt.plot(history.history['accuracy'])\n",
        "plt.plot(history.history['val_accuracy'])\n",
        "\n",
        "plt.title('model accuracy')\n",
        "plt.ylabel('accuracy')\n",
        "plt.xlabel('epoch')\n",
        "plt.legend(['train','test'], loc = 'upper left')\n",
        "plt.show()\n",
        "\n",
        "plt.plot(history.history['loss'])\n",
        "plt.plot(history.history['val_loss'])\n",
        "\n",
        "plt.title('model loss')\n",
        "plt.ylabel('loss')\n",
        "plt.xlabel('epoch')\n",
        "plt.legend(['train','test'], loc = 'upper left')\n",
        "plt.show()"
      ],
      "execution_count": 43,
      "outputs": [
        {
          "output_type": "display_data",
          "data": {
            "image/png": "[encoded data removed]",
            "text/plain": [
              "<Figure size 432x288 with 1 Axes>"
            ]
          },
          "metadata": {
            "needs_background": "light"
          }
        },
        {
          "output_type": "display_data",
          "data": {
            "image/png": "[encoded data removed]",
            "text/plain": [
              "<Figure size 432x288 with 1 Axes>"
            ]
          },
          "metadata": {
            "needs_background": "light"
          }
        }
      ]
    },
    {
      "cell_type": "markdown",
      "metadata": {
        "id": "Nm8nBj1Q_TaE"
      },
      "source": [
        "The visuals show that there is still overfitting. I will attempt to develop another neural network which includes a CNN together with a form of RNN: Long Short Term Memory (LSTM)."
      ]
    },
    {
      "cell_type": "markdown",
      "metadata": {
        "id": "YejPEwdJAhU6"
      },
      "source": [
        "# Text Classification using CNN together with LSTM"
      ]
    },
    {
      "cell_type": "markdown",
      "metadata": {
        "id": "F7wAAHDOAvjH"
      },
      "source": [
        "In this section, I will train a convolutional neural network together with a LSTM to create a model which is even more effective in terms of sentiment analysis text classification. The CNN LSTM architecture involves using Convolutional Neural Network (CNN) layers for feature extraction on input data combined with LSTMs to support sequence prediction. Combining the advantages of convolutional neural networks (CNN) that can extract effective features from the data, and long short-term memory (LSTM) which can not only find the interdependence of data in time series data, but also automatically detect the best mode suitable for relevant data."
      ]
    },
    {
      "cell_type": "code",
      "metadata": {
        "id": "nood3CjgAocT"
      },
      "source": [
        "from numpy import array\n",
        "from numpy import asarray\n",
        "from numpy import zeros\n",
        "from keras.layers import GlobalMaxPooling1D\n",
        "import tensorflow as tf\n",
        "from tensorflow.keras.layers import LSTM"
      ],
      "execution_count": 58,
      "outputs": []
    },
    {
      "cell_type": "markdown",
      "metadata": {
        "id": "oqs4jjU2CKIQ"
      },
      "source": [
        "Loading of necessary libraries for the development of the CNN + LSTM. "
      ]
    },
    {
      "cell_type": "code",
      "metadata": {
        "id": "eFJeRAiR_1cn"
      },
      "source": [
        "embeddings_dictionary = dict()\n",
        "glove_file = open('/content/glove.6B.100d.txt', encoding=\"utf8\")\n",
        "\n",
        "for line in glove_file:\n",
        "    records = line.split()\n",
        "    word = records[0]\n",
        "    vector_dimensions = asarray(records[1:], dtype='float32')\n",
        "    embeddings_dictionary [word] = vector_dimensions\n",
        "glove_file.close()"
      ],
      "execution_count": 50,
      "outputs": []
    },
    {
      "cell_type": "markdown",
      "metadata": {
        "id": "KXmaPSPlCSVF"
      },
      "source": [
        "The following code loads the GloVe word embeddings and creates a dictionary that will contain words as keys and their corresponding embedding list as values. I did not use this in the previous sections, as I was not able to get it embedded. Now it worked hence applying it here (in future considerations, I will apply it to other neural networks to evaluate its impact on the model's performance).\n",
        "\n"
      ]
    },
    {
      "cell_type": "markdown",
      "metadata": {
        "id": "FDq8O_OgEurf"
      },
      "source": [
        "# Model Design for a CNN + LSTM"
      ]
    },
    {
      "cell_type": "code",
      "metadata": {
        "colab": {
          "base_uri": "https://localhost:8080/"
        },
        "id": "lju5_M_QAnQn",
        "outputId": "42414e06-6813-4798-8f31-fc8fc3ebb094"
      },
      "source": [
        "model = Sequential()\n",
        "model.add(Embedding(top_words, 32, input_length=max_words))\n",
        "model.add(Conv1D(filters=32, kernel_size=3, padding='same', activation='relu'))\n",
        "model.add(BatchNormalization())\n",
        "model.add(MaxPooling1D(pool_size=2))\n",
        "model.add(LSTM(120))\n",
        "model.add(Dropout(0.8))\n",
        "model.add(Dense(1, activation='sigmoid'))\n",
        "model.compile(loss='binary_crossentropy', optimizer='RMSprop', metrics=['accuracy'])\n",
        "model.summary()"
      ],
      "execution_count": 90,
      "outputs": [
        {
          "output_type": "stream",
          "name": "stdout",
          "text": [
            "Model: \"sequential_27\"\n",
            "_________________________________________________________________\n",
            "Layer (type)                 Output Shape              Param #   \n",
            "=================================================================\n",
            "embedding_22 (Embedding)     (None, 500, 32)           160000    \n",
            "_________________________________________________________________\n",
            "conv1d_16 (Conv1D)           (None, 500, 32)           3104      \n",
            "_________________________________________________________________\n",
            "batch_normalization_12 (Batc (None, 500, 32)           128       \n",
            "_________________________________________________________________\n",
            "max_pooling1d_13 (MaxPooling (None, 250, 32)           0         \n",
            "_________________________________________________________________\n",
            "lstm_11 (LSTM)               (None, 120)               73440     \n",
            "_________________________________________________________________\n",
            "dropout_9 (Dropout)          (None, 120)               0         \n",
            "_________________________________________________________________\n",
            "dense_26 (Dense)             (None, 1)                 121       \n",
            "=================================================================\n",
            "Total params: 236,793\n",
            "Trainable params: 236,729\n",
            "Non-trainable params: 64\n",
            "_________________________________________________________________\n"
          ]
        }
      ]
    },
    {
      "cell_type": "markdown",
      "metadata": {
        "id": "2ovhH1JKDxZz"
      },
      "source": [
        "Similar to before, I am now running the model using model.fit. I have tried various alternations of the model choosing different hyperparamters. I found that setting Dropout at 0.8 had a better impact on performance. Also RSMprop optimizer performed better than the Adam optimizer. Finally, I set the LSTM layer to 120 instead of 100 as it performed better as well at this value."
      ]
    },
    {
      "cell_type": "code",
      "metadata": {
        "colab": {
          "base_uri": "https://localhost:8080/"
        },
        "id": "ZCejqpKSBv38",
        "outputId": "452d37d9-773f-42f7-baf0-52b1268cf0b7"
      },
      "source": [
        "# Fit the model\n",
        "history = model.fit(x_train, y_train, validation_data=(x_test, y_test), epochs=5, batch_size=128, verbose=2)\n",
        "\n",
        "# Final evaluation of the model\n",
        "scores = model.evaluate(x_test, y_test, verbose=0)\n",
        "\n",
        "print(\"Accuracy: %.2f%%\" % (scores[1]*100))"
      ],
      "execution_count": 91,
      "outputs": [
        {
          "output_type": "stream",
          "name": "stdout",
          "text": [
            "Epoch 1/5\n",
            "196/196 - 19s - loss: 0.4971 - accuracy: 0.7572 - val_loss: 0.6931 - val_accuracy: 0.5046\n",
            "Epoch 2/5\n",
            "196/196 - 15s - loss: 0.2989 - accuracy: 0.8854 - val_loss: 0.3518 - val_accuracy: 0.8702\n",
            "Epoch 3/5\n",
            "196/196 - 15s - loss: 0.2472 - accuracy: 0.9092 - val_loss: 0.3157 - val_accuracy: 0.8632\n",
            "Epoch 4/5\n",
            "196/196 - 15s - loss: 0.1899 - accuracy: 0.9323 - val_loss: 0.2824 - val_accuracy: 0.8896\n",
            "Epoch 5/5\n",
            "196/196 - 15s - loss: 0.1472 - accuracy: 0.9501 - val_loss: 0.3320 - val_accuracy: 0.8800\n",
            "Accuracy: 88.00%\n"
          ]
        }
      ]
    },
    {
      "cell_type": "markdown",
      "metadata": {
        "id": "QRf83vIEEptT"
      },
      "source": [
        "The model performance looks promising. The validation accuracy is 88%, slightly better than the previous CNN model. Let's check the visuals again."
      ]
    },
    {
      "cell_type": "code",
      "metadata": {
        "colab": {
          "base_uri": "https://localhost:8080/",
          "height": 573
        },
        "id": "TzLnpI8mDiZ1",
        "outputId": "a26b9d92-a45a-479c-b64a-64ccecfb7179"
      },
      "source": [
        "plt.plot(history.history['accuracy'])\n",
        "plt.plot(history.history['val_accuracy'])\n",
        "\n",
        "plt.title('model accuracy')\n",
        "plt.ylabel('accuracy')\n",
        "plt.xlabel('epoch')\n",
        "plt.legend(['train','test'], loc = 'upper left')\n",
        "plt.show()\n",
        "\n",
        "plt.plot(history.history['loss'])\n",
        "plt.plot(history.history['val_loss'])\n",
        "\n",
        "plt.title('model loss')\n",
        "plt.ylabel('loss')\n",
        "plt.xlabel('epoch')\n",
        "plt.legend(['train','test'], loc = 'upper left')\n",
        "plt.show()"
      ],
      "execution_count": 92,
      "outputs": [
        {
          "output_type": "display_data",
          "data": {
            "image/png": "[encoded data removed]",
            "text/plain": [
              "<Figure size 432x288 with 1 Axes>"
            ]
          },
          "metadata": {
            "needs_background": "light"
          }
        },
        {
          "output_type": "display_data",
          "data": {
            "image/png": "[encoded data removed]",
            "text/plain": [
              "<Figure size 432x288 with 1 Axes>"
            ]
          },
          "metadata": {
            "needs_background": "light"
          }
        }
      ]
    },
    {
      "cell_type": "markdown",
      "metadata": {
        "id": "MYTCzcpWFDIA"
      },
      "source": [
        "I am very happy with the performance of this model.  Slightly more conversion here. However, the model still overfits to some extent. In the next section, I will apply another regularization technique, namely L1/l2 regularization to see if minimizing dimensions / applying penalities can help resolve the overfitting issue."
      ]
    },
    {
      "cell_type": "markdown",
      "metadata": {
        "id": "jQzCuk2PFZEm"
      },
      "source": [
        "# Model Design for a CNN + LSTM (L1/L2 regulariation applied)"
      ]
    },
    {
      "cell_type": "code",
      "metadata": {
        "id": "FEov2tBDE0VN"
      },
      "source": [
        "from keras import regularizers"
      ],
      "execution_count": 137,
      "outputs": []
    },
    {
      "cell_type": "code",
      "metadata": {
        "colab": {
          "base_uri": "https://localhost:8080/"
        },
        "id": "ANadjJKHMfV-",
        "outputId": "a0e06bc6-842e-4dc7-91de-51019ce9ea4d"
      },
      "source": [
        "model = Sequential()\n",
        "model.add(Embedding(top_words, 32, input_length=max_words))\n",
        "model.add(Conv1D(filters=32, kernel_size=3, padding='same', activation='relu'))\n",
        "model.add(BatchNormalization())\n",
        "model.add(MaxPooling1D(pool_size=2))\n",
        "model.add(LSTM(120))\n",
        "model.add(Dropout(0.50))\n",
        "model.add(Dense(64, input_dim=64, kernel_regularizer=regularizers.l1(0.01)))\n",
        "model.add(Dense(1, activation='sigmoid'))\n",
        "model.compile(loss='binary_crossentropy', optimizer='RMSprop', metrics=['accuracy'])\n",
        "model.summary()"
      ],
      "execution_count": 179,
      "outputs": [
        {
          "output_type": "stream",
          "name": "stdout",
          "text": [
            "Model: \"sequential_59\"\n",
            "_________________________________________________________________\n",
            "Layer (type)                 Output Shape              Param #   \n",
            "=================================================================\n",
            "embedding_54 (Embedding)     (None, 500, 32)           160000    \n",
            "_________________________________________________________________\n",
            "conv1d_48 (Conv1D)           (None, 500, 32)           3104      \n",
            "_________________________________________________________________\n",
            "batch_normalization_44 (Batc (None, 500, 32)           128       \n",
            "_________________________________________________________________\n",
            "max_pooling1d_44 (MaxPooling (None, 250, 32)           0         \n",
            "_________________________________________________________________\n",
            "lstm_43 (LSTM)               (None, 120)               73440     \n",
            "_________________________________________________________________\n",
            "dropout_37 (Dropout)         (None, 120)               0         \n",
            "_________________________________________________________________\n",
            "dense_84 (Dense)             (None, 64)                7744      \n",
            "_________________________________________________________________\n",
            "dense_85 (Dense)             (None, 1)                 65        \n",
            "=================================================================\n",
            "Total params: 244,481\n",
            "Trainable params: 244,417\n",
            "Non-trainable params: 64\n",
            "_________________________________________________________________\n"
          ]
        }
      ]
    },
    {
      "cell_type": "markdown",
      "metadata": {
        "id": "W9Q4Y5vVFma7"
      },
      "source": [
        "As the core focus of this model design was mainly hyperparameter tuning and regularization, I tested the model many times to find the best performance. Though grid search could have been applied here, I preferred to run the different models manually to enhance my understanding of the impact of hyperparameter tuning on model performance. Dropout was set at 0.5 again and l1 regularization was applied. Application of L1 regularization required an additional Dense layer. I found this to have the best performance over other Dropout values and l2 regularization (though l2 was the recommended choice for this type of model in the literature). "
      ]
    },
    {
      "cell_type": "code",
      "metadata": {
        "colab": {
          "base_uri": "https://localhost:8080/"
        },
        "id": "-XRVAwuZMklu",
        "outputId": "48e56e5b-1c73-4309-9642-8a053164445e"
      },
      "source": [
        "# Fit the model\n",
        "history = model.fit(x_train, y_train, validation_data=(x_test, y_test), epochs=4, batch_size=128, verbose=2)\n",
        "\n",
        "# Final evaluation of the model\n",
        "scores = model.evaluate(x_test, y_test, verbose=0)\n",
        "\n",
        "print(\"Accuracy: %.2f%%\" % (scores[1]*100))"
      ],
      "execution_count": 180,
      "outputs": [
        {
          "output_type": "stream",
          "name": "stdout",
          "text": [
            "Epoch 1/4\n",
            "196/196 - 19s - loss: 2.4742 - accuracy: 0.7546 - val_loss: 0.7980 - val_accuracy: 0.5122\n",
            "Epoch 2/4\n",
            "196/196 - 15s - loss: 0.4460 - accuracy: 0.8707 - val_loss: 0.4988 - val_accuracy: 0.8393\n",
            "Epoch 3/4\n",
            "196/196 - 15s - loss: 0.3660 - accuracy: 0.9013 - val_loss: 0.6300 - val_accuracy: 0.8051\n",
            "Epoch 4/4\n",
            "196/196 - 15s - loss: 0.3147 - accuracy: 0.9205 - val_loss: 0.4108 - val_accuracy: 0.8867\n",
            "Accuracy: 88.67%\n"
          ]
        }
      ]
    },
    {
      "cell_type": "markdown",
      "metadata": {
        "id": "ps2iFqzgGgO9"
      },
      "source": [
        "Training the model, I found that this model showed a 88.67% accuracy with a slight difference compared to the traning accuracy. Again, a slight improvement versus the previous model. Let's review the visuals."
      ]
    },
    {
      "cell_type": "code",
      "metadata": {
        "colab": {
          "base_uri": "https://localhost:8080/",
          "height": 573
        },
        "id": "ksCU4U7HNgbN",
        "outputId": "5f3d5770-3649-43b6-b9cf-5b1a73e4f5d6"
      },
      "source": [
        "plt.plot(history.history['accuracy'])\n",
        "plt.plot(history.history['val_accuracy'])\n",
        "\n",
        "plt.title('model accuracy')\n",
        "plt.ylabel('accuracy')\n",
        "plt.xlabel('epoch')\n",
        "plt.legend(['train','test'], loc = 'upper left')\n",
        "plt.show()\n",
        "\n",
        "plt.plot(history.history['loss'])\n",
        "plt.plot(history.history['val_loss'])\n",
        "\n",
        "plt.title('model loss')\n",
        "plt.ylabel('loss')\n",
        "plt.xlabel('epoch')\n",
        "plt.legend(['train','test'], loc = 'upper left')\n",
        "plt.show()"
      ],
      "execution_count": 181,
      "outputs": [
        {
          "output_type": "display_data",
          "data": {
            "image/png": "[encoded data removed]",
            "text/plain": [
              "<Figure size 432x288 with 1 Axes>"
            ]
          },
          "metadata": {
            "needs_background": "light"
          }
        },
        {
          "output_type": "display_data",
          "data": {
            "image/png": "[encoded data removed]",
            "text/plain": [
              "<Figure size 432x288 with 1 Axes>"
            ]
          },
          "metadata": {
            "needs_background": "light"
          }
        }
      ]
    },
    {
      "cell_type": "markdown",
      "metadata": {
        "id": "cCgJpPT2G6f0"
      },
      "source": [
        "The visuals show a similar performance as the previous model, with a slightly better performance on the loss function with this model. Not completely satisfied with the overall performance, I will attempt again to improve the model through model design and hyperparameter tuning."
      ]
    },
    {
      "cell_type": "code",
      "metadata": {
        "colab": {
          "base_uri": "https://localhost:8080/"
        },
        "id": "r3E9R3eydA_x",
        "outputId": "54a64372-dd0f-457b-ec02-661c9c060b01"
      },
      "source": [
        "model = Sequential()\n",
        "model.add(Embedding(top_words, 32, input_length=max_words))\n",
        "model.add(Conv1D(filters=32, kernel_size=3, padding='same', activation='relu'))\n",
        "model.add(BatchNormalization())\n",
        "model.add(Dropout(0.50))\n",
        "model.add(MaxPooling1D(pool_size=2))\n",
        "model.add(LSTM(120))\n",
        "model.add(Dense(64, input_dim=64, kernel_regularizer=regularizers.l1(0.01)))\n",
        "model.add(Dropout(0.20))\n",
        "model.add(Dense(1, activation='sigmoid'))\n",
        "model.compile(loss='binary_crossentropy', optimizer='RMSprop', metrics=['accuracy'])\n",
        "model.summary()"
      ],
      "execution_count": 225,
      "outputs": [
        {
          "output_type": "stream",
          "name": "stdout",
          "text": [
            "Model: \"sequential_74\"\n",
            "_________________________________________________________________\n",
            "Layer (type)                 Output Shape              Param #   \n",
            "=================================================================\n",
            "embedding_69 (Embedding)     (None, 500, 32)           160000    \n",
            "_________________________________________________________________\n",
            "conv1d_63 (Conv1D)           (None, 500, 32)           3104      \n",
            "_________________________________________________________________\n",
            "batch_normalization_55 (Batc (None, 500, 32)           128       \n",
            "_________________________________________________________________\n",
            "dropout_56 (Dropout)         (None, 500, 32)           0         \n",
            "_________________________________________________________________\n",
            "max_pooling1d_59 (MaxPooling (None, 250, 32)           0         \n",
            "_________________________________________________________________\n",
            "lstm_58 (LSTM)               (None, 120)               73440     \n",
            "_________________________________________________________________\n",
            "dense_110 (Dense)            (None, 64)                7744      \n",
            "_________________________________________________________________\n",
            "dropout_57 (Dropout)         (None, 64)                0         \n",
            "_________________________________________________________________\n",
            "dense_111 (Dense)            (None, 1)                 65        \n",
            "=================================================================\n",
            "Total params: 244,481\n",
            "Trainable params: 244,417\n",
            "Non-trainable params: 64\n",
            "_________________________________________________________________\n"
          ]
        }
      ]
    },
    {
      "cell_type": "markdown",
      "metadata": {
        "id": "QQvlaeqeH8p4"
      },
      "source": [
        "In this final attempt, I made a couple of alterations to the model to see if it would improve the models performance. The changes made were the change in Dropout layers. I added an additional dropout layer in the model with a value of 0.2. I also changed the position of both dropout layers within the model."
      ]
    },
    {
      "cell_type": "code",
      "metadata": {
        "colab": {
          "base_uri": "https://localhost:8080/"
        },
        "id": "BkwbQK5IdOOe",
        "outputId": "047fdb34-63b0-4361-99bc-c5525a43cb74"
      },
      "source": [
        "# Fit the model\n",
        "history = model.fit(x_train, y_train, validation_data=(x_test, y_test), epochs=4, batch_size=64, verbose=2)\n",
        "\n",
        "# Final evaluation of the model\n",
        "scores = model.evaluate(x_test, y_test, verbose=0)\n",
        "\n",
        "print(\"Accuracy: %.2f%%\" % (scores[1]*100))"
      ],
      "execution_count": 226,
      "outputs": [
        {
          "output_type": "stream",
          "name": "stdout",
          "text": [
            "Epoch 1/4\n",
            "391/391 - 29s - loss: 1.5450 - accuracy: 0.7664 - val_loss: 0.6359 - val_accuracy: 0.7178\n",
            "Epoch 2/4\n",
            "391/391 - 25s - loss: 0.4098 - accuracy: 0.8771 - val_loss: 0.3945 - val_accuracy: 0.8754\n",
            "Epoch 3/4\n",
            "391/391 - 25s - loss: 0.3443 - accuracy: 0.9038 - val_loss: 0.4064 - val_accuracy: 0.8682\n",
            "Epoch 4/4\n",
            "391/391 - 25s - loss: 0.3030 - accuracy: 0.9204 - val_loss: 0.3475 - val_accuracy: 0.8955\n",
            "Accuracy: 89.55%\n"
          ]
        }
      ]
    },
    {
      "cell_type": "markdown",
      "metadata": {
        "id": "A0MiXPuNJNqn"
      },
      "source": [
        "This final model showed an increase in performance to 89.55%."
      ]
    },
    {
      "cell_type": "code",
      "metadata": {
        "colab": {
          "base_uri": "https://localhost:8080/",
          "height": 573
        },
        "id": "ZagKeglfdk5G",
        "outputId": "002b0bdf-5572-454a-a02f-32eee116b358"
      },
      "source": [
        "plt.plot(history.history['accuracy'])\n",
        "plt.plot(history.history['val_accuracy'])\n",
        "\n",
        "plt.title('model accuracy')\n",
        "plt.ylabel('accuracy')\n",
        "plt.xlabel('epoch')\n",
        "plt.legend(['train','test'], loc = 'upper left')\n",
        "plt.show()\n",
        "\n",
        "plt.plot(history.history['loss'])\n",
        "plt.plot(history.history['val_loss'])\n",
        "\n",
        "plt.title('model loss')\n",
        "plt.ylabel('loss')\n",
        "plt.xlabel('epoch')\n",
        "plt.legend(['train','test'], loc = 'upper left')\n",
        "plt.show()"
      ],
      "execution_count": 227,
      "outputs": [
        {
          "output_type": "display_data",
          "data": {
            "image/png": "[encoded data removed]",
            "text/plain": [
              "<Figure size 432x288 with 1 Axes>"
            ]
          },
          "metadata": {
            "needs_background": "light"
          }
        },
        {
          "output_type": "display_data",
          "data": {
            "image/png": "[encoded data removed]",
            "text/plain": [
              "<Figure size 432x288 with 1 Axes>"
            ]
          },
          "metadata": {
            "needs_background": "light"
          }
        }
      ]
    },
    {
      "cell_type": "markdown",
      "metadata": {
        "id": "vvfno-MSJTQd"
      },
      "source": [
        "The visuals show that overfitting is much less in this model and can be assumed to be a better (acceptable) model for this text sentiment classification problem. "
      ]
    },
    {
      "cell_type": "markdown",
      "metadata": {
        "id": "kyUssP46n5JM"
      },
      "source": [
        "# Summary of text classification using ANN, CNN, and CNN + LSTM"
      ]
    },
    {
      "cell_type": "markdown",
      "metadata": {
        "id": "vg-XEUvwn5eq"
      },
      "source": [
        "In summary, to address the text sentiment classification problem of the IMDB dataset, I tested three types of of neural networks: fully connected neural network, a CNN, and a CNN with LSTM. The CNN with LSTM proved to be the most effective model. This is due to the complimentary properaties that both models provide to sequence classification. The final model had accuracy of 89.55% showing the least overfitting of the data."
      ]
    },
    {
      "cell_type": "markdown",
      "metadata": {
        "id": "PHx21SytKaLK"
      },
      "source": [
        "# Limitations and future considerations"
      ]
    },
    {
      "cell_type": "markdown",
      "metadata": {
        "id": "oedy8AU1KfhA"
      },
      "source": [
        "The following describes various limitations and future considerations regarding the design of the three deep learning models in this assignment. \n",
        "\n",
        "**Prepared IMBD dataset used**. (available through Keras). No preprocessing was done on my end. Preprocessing can improve feature design which in turn can improve model performance.\n",
        "\n",
        "**Embedding**. The pre-trained embedding layer was only applied in the final model (CNN + LSTM), though unsure if it was used correctly. Future considerations should include the pre-trained embedding to make better comparisons between different neural network designs. \n",
        "\n",
        "**Hyperparameter tuning**. Manual hyperparameter tuning was cumbersome, but extremely learningful. Grid Search is a more efficient way to find the best parameters for a model and should be applied in future considerations.\n",
        "\n",
        "**Flatten layer**. A flattening layer was not used in all the CNN. Standard in CNN design flatten layers are used to transform multidimensional input shapes into a single output for classification. I found in various coding books which used 1D CNN + LSTM no usage of flatten layers assuming that 1D does not have to be flattened. In this coding exercise, the flatten layer was left out by design as it gave better results. Future considerations could test other types of CNN for similar problems with a flattening layer.\n",
        "\n"
      ]
    },
    {
      "cell_type": "code",
      "metadata": {
        "id": "demUEZaulIrL"
      },
      "source": [
        ""
      ],
      "execution_count": null,
      "outputs": []
    }
  ]
}